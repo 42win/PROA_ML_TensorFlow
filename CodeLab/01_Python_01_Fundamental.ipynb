{
  "nbformat": 4,
  "nbformat_minor": 0,
  "metadata": {
    "colab": {
      "name": "ML_Codelab_01_Python1.ipynb",
      "provenance": [],
      "collapsed_sections": [
        "7mHhSdfeH_uY",
        "MeltkoozDRQG",
        "7vCuGwtdcFq6"
      ]
    },
    "kernelspec": {
      "name": "python3",
      "display_name": "Python 3"
    },
    "language_info": {
      "name": "python"
    }
  },
  "cells": [
    {
      "cell_type": "markdown",
      "source": [
        "# ML CodeLab 01 - Python 01"
      ],
      "metadata": {
        "id": "1gLwe-bGUQJ2"
      }
    },
    {
      "cell_type": "markdown",
      "source": [
        "## Text \n",
        "\n",
        "- line text pada python menggunakan bahasa markup\n",
        "- more about markup languange : [link](https://www.petanikode.com/markdown-pemula/)"
      ],
      "metadata": {
        "id": "xjTTr8k1U7x5"
      }
    },
    {
      "cell_type": "code",
      "execution_count": null,
      "metadata": {
        "id": "y1DfMUAUUPWi"
      },
      "outputs": [],
      "source": [
        "# Judul\n",
        "## Sub Judul\n",
        "\n",
        "isi\n",
        "\n",
        "**bold text**\n",
        "\n",
        "*italic text*"
      ]
    },
    {
      "cell_type": "markdown",
      "source": [
        "## Sifat sintaks Python\n",
        "\n",
        "- case sensitive\n",
        "- using indentasi for blok program\n",
        "- run code line by line\n",
        "\n",
        "- more : [link](https://www.dqlab.id/belajar-python-dengan-mematuhi-aturan-penulisan-sintaks)"
      ],
      "metadata": {
        "id": "SSzfq_xWVzDS"
      }
    },
    {
      "cell_type": "code",
      "source": [
        "#run code line sequentially\n",
        "\n",
        "print(\"   /|\")\n",
        "print(\"  / |\")\n",
        "print(\" /  |\")\n",
        "print(\"/___|\")\n",
        "print('\\n')\n",
        "\n",
        "#cas sensitive\n",
        "\n",
        "print(\"aswin\"==\"Aswin\")\n",
        "\n",
        "#indetasi\n",
        "\n",
        "def cetakNama() :\n",
        "  print(\"\\naswin\")\n",
        "\n",
        "cetakNama()"
      ],
      "metadata": {
        "colab": {
          "base_uri": "https://localhost:8080/"
        },
        "id": "_UlvlZT0W2qO",
        "outputId": "e267e07f-18d6-410a-dcdc-edc6d6ef00d2"
      },
      "execution_count": null,
      "outputs": [
        {
          "output_type": "stream",
          "name": "stdout",
          "text": [
            "   /|\n",
            "  / |\n",
            " /  |\n",
            "/___|\n",
            "\n",
            "\n",
            "False\n",
            "\n",
            "aswin\n"
          ]
        }
      ]
    },
    {
      "cell_type": "markdown",
      "source": [
        "## Variabel dan Tipe Data\n",
        "\n",
        "- variabel : tempat penyimpanan data\n",
        "- Tipe data : jenis data yang tersimpan dalam variabel\n",
        "- Tipe data python terdiri atas: \n",
        "  - Numbers (int,float,complex)\n",
        "  - Strings\n",
        "  - Boolean\n",
        "  - Array ( Tuple, List, Set, Dictionary)\n",
        "\n",
        "<br>\n",
        "\n",
        "- lebih lanjut tentang variabel,syarat variabel,dan tipe data : [link](https://www.petanikode.com/python-variabel-dan-tipe-data/)\n",
        "\n"
      ],
      "metadata": {
        "id": "sYHJU-bNYg4i"
      }
    },
    {
      "cell_type": "code",
      "source": [
        "#Numbers\n",
        "var1 = 1\n",
        "var2 = 1.5\n",
        "var3 = 2+2j\n",
        "\n",
        "#String\n",
        "var4 = \"Aswin\"\n",
        "\n",
        "#Boolean\n",
        "var5 = True\n",
        "\n",
        "#Array\n",
        "var6 = (1,1.5,\"aswin\")\n",
        "var7 = [1,1.5,\"aswin\"]\n",
        "var8 = {1,1.5,\"aswin\"}\n",
        "var9 = {\n",
        "    \"int\" : 1,\n",
        "    \"float\" : 1.5, \n",
        "    \"string\": \"aswin\"\n",
        "    }\n",
        "\n",
        "print(type(var1))\n",
        "print(type(var2))\n",
        "print(type(var3))\n",
        "print(type(var4))\n",
        "print(type(var5))\n",
        "print('\\n')\n",
        "print(type(var6))\n",
        "print(type(var7))\n",
        "print(type(var8))\n",
        "print(type(var9))\n",
        "\n",
        "print(\"\\n\")\n",
        "\n",
        "#konversi type data\n",
        "print(type(var2))\n",
        "print(type(int(var2)))"
      ],
      "metadata": {
        "colab": {
          "base_uri": "https://localhost:8080/"
        },
        "id": "ygFsCfjAabVV",
        "outputId": "471919da-895d-4547-bd39-3d29bf708f1a"
      },
      "execution_count": 1,
      "outputs": [
        {
          "output_type": "stream",
          "name": "stdout",
          "text": [
            "<class 'int'>\n",
            "<class 'float'>\n",
            "<class 'complex'>\n",
            "<class 'str'>\n",
            "<class 'bool'>\n",
            "\n",
            "\n",
            "<class 'tuple'>\n",
            "<class 'list'>\n",
            "<class 'set'>\n",
            "<class 'dict'>\n",
            "\n",
            "\n",
            "<class 'float'>\n",
            "<class 'int'>\n"
          ]
        }
      ]
    },
    {
      "cell_type": "markdown",
      "source": [
        "### Float is weird\n",
        "\n",
        "- python tidak precise datanya"
      ],
      "metadata": {
        "id": "7mHhSdfeH_uY"
      }
    },
    {
      "cell_type": "code",
      "source": [
        "print (1.1+2.2 == 3.3)\n",
        "print (1.1+2.2) "
      ],
      "metadata": {
        "colab": {
          "base_uri": "https://localhost:8080/"
        },
        "id": "R-G1A1mqIDCC",
        "outputId": "a565df8d-ea3d-40ea-a7b8-484616136378"
      },
      "execution_count": null,
      "outputs": [
        {
          "output_type": "stream",
          "name": "stdout",
          "text": [
            "False\n",
            "3.3000000000000003\n"
          ]
        }
      ]
    },
    {
      "cell_type": "code",
      "source": [
        "# Solution\n",
        "\n",
        "a = 1.1\n",
        "b = 2.2\n",
        "tolerance = 0.000001\n",
        "print(abs(3.3 - (a + b)) < tolerance)"
      ],
      "metadata": {
        "colab": {
          "base_uri": "https://localhost:8080/"
        },
        "id": "XYr_q8STIdjk",
        "outputId": "24c554ed-b0ac-4ec2-b91d-9d7cc6e76de4"
      },
      "execution_count": null,
      "outputs": [
        {
          "output_type": "stream",
          "name": "stdout",
          "text": [
            "True\n"
          ]
        }
      ]
    },
    {
      "cell_type": "markdown",
      "source": [
        "### List Operation"
      ],
      "metadata": {
        "id": "MeltkoozDRQG"
      }
    },
    {
      "cell_type": "code",
      "source": [
        "var10 = [\"A\", \"B\", \"C\" ]\n",
        "var11 = [True,False,[1,2]]\n",
        "var12 = \"AB\"\n",
        "\n",
        "#menampilkan element tertentu  \n",
        "print(var10[0])\n",
        "\n",
        "#duplikasi list sebanyak n \n",
        "print(var10*2)\n",
        "\n",
        "#concatenate list (merge list)\n",
        "print(var10+var11)\n",
        "\n",
        "#menambahkan isi otomatis di last posisition\n",
        "var10.append(var11)\n",
        "print(var10)\n",
        "\n",
        "#menggabungkan isi otomatis di last posisition\n",
        "var10.extend(var11)\n",
        "print(var10)\n",
        "\n",
        "#menambahkan isi pada posisi tertentu\n",
        "var10.insert(0,var12)\n",
        "print(var10)\n",
        " \n",
        "#menghapus data tertentu dari list\n",
        "var10.remove(var11)\n",
        "print(var10)\n",
        " \n",
        "#mengetahui posisi data pada list\n",
        "print(var10.index(\"C\"))\n",
        "\n",
        "#mengeluarkan data tertentu dari list dan return dalam variabel\n",
        "var13 = var10.pop(1)\n",
        "print(var13)\n",
        "\n",
        "#menghapus semua data dari list\n",
        "var10.clear()\n",
        "print(var10)\n",
        "\n",
        "var14 = [1,3,4,2]\n",
        "var15 = ['z','c','f','g','h']\n",
        "\n",
        "print('\\n')\n",
        "\n",
        "#mengurutkan data pada list\n",
        "var14.sort()\n",
        "var15.sort() \n",
        "print(f\"{var14}\\n{var15}\")\n",
        "\n",
        "var14.reverse() \n",
        "print(var14)\n",
        "\n",
        "#menghitung pangjang list\n",
        "len(var14)\n",
        "\n",
        "#mengetahui nilai max dan min\n",
        "print(f\"min : {min(var14)} \\nmax : {max(var14)}\")\n",
        "\n",
        "#menghitung berapa kali suatu objek muncul\n",
        "var16 = ['a','a', 'ab', 'ac', 'ad']\n",
        "print(var16.count('a'))\n",
        " \n"
      ],
      "metadata": {
        "colab": {
          "base_uri": "https://localhost:8080/"
        },
        "id": "Yfm3WXRaDUXL",
        "outputId": "4da3cf64-a691-4b88-acc1-1d29bc11edaf"
      },
      "execution_count": null,
      "outputs": [
        {
          "output_type": "stream",
          "name": "stdout",
          "text": [
            "A\n",
            "['A', 'B', 'C', 'A', 'B', 'C']\n",
            "['A', 'B', 'C', True, False, [1, 2]]\n",
            "['A', 'B', 'C', [True, False, [1, 2]]]\n",
            "['A', 'B', 'C', [True, False, [1, 2]], True, False, [1, 2]]\n",
            "['AB', 'A', 'B', 'C', [True, False, [1, 2]], True, False, [1, 2]]\n",
            "['AB', 'A', 'B', 'C', True, False, [1, 2]]\n",
            "3\n",
            "A\n",
            "[]\n",
            "\n",
            "\n",
            "[1, 2, 3, 4]\n",
            "['c', 'f', 'g', 'h', 'z']\n",
            "[4, 3, 2, 1]\n",
            "min : 1 \n",
            "max : 4\n",
            "2\n"
          ]
        }
      ]
    },
    {
      "cell_type": "code",
      "source": [
        "#perbedaan extend dan append \n",
        "\n",
        "#terletak ketika menambahkan objek array, extend mengekstrak isinya lalu di input sedangkan append tidak\n",
        "#[a,b,[true,false]] vs [a,b,true,false] selain itu,\n",
        "\n",
        "var19 = [1,2]\n",
        "var20 = [1,2]\n",
        "var21 = [True,False]\n",
        "\n",
        "var19.extend(var21)\n",
        "var20.append(var21)\n",
        "\n",
        "print(var19)\n",
        "print(var20)\n",
        "\n",
        "print('\\n')\n",
        "\n",
        "#extend mengektrak string juga sedang append tidak\n",
        "var = \"asw\"\n",
        "var17 = ['1','2']\n",
        "var18 = ['1','2']\n",
        "\n",
        "var17.extend(var)\n",
        "var18.append(var)\n",
        "\n",
        "print(var17)\n",
        "print(var18)\n",
        "\n",
        " "
      ],
      "metadata": {
        "colab": {
          "base_uri": "https://localhost:8080/"
        },
        "id": "5fvWlHc2c_mt",
        "outputId": "7c7ff8d3-a536-43a0-e9f0-9f52f29d8087"
      },
      "execution_count": null,
      "outputs": [
        {
          "output_type": "stream",
          "name": "stdout",
          "text": [
            "[1, 2, True, False]\n",
            "[1, 2, [True, False]]\n",
            "\n",
            "\n",
            "['1', '1', '2', 'a', 's', 'w']\n",
            "['1', '2', 'asw']\n",
            "2\n"
          ]
        }
      ]
    },
    {
      "cell_type": "markdown",
      "source": [
        "link : [perbedaan append dan extend](https://www.pengembangan-web-mp-pd.com/id/python/perbedaan-antara-metode-daftar-append-vs.-extended-dalam-python/958525007/#:~:text=extended%20dalam%20Python,-Apa%20perbedaan%20antara&text=append%20%3A%20Menambahkan%20objek%20di%20akhir.&text=extend%20%3A%20Memperpanjang%20daftar%20dengan%20menambahkan%20elemen%20dari%20iterable.)"
      ],
      "metadata": {
        "id": "lmBKd65CfeAG"
      }
    },
    {
      "cell_type": "markdown",
      "source": [
        "### String Formatting\n",
        "\n",
        "- formatting + (only str to str)\n",
        "- formatting %\n",
        "- formatting str\n",
        "- formatting f-string\n",
        "\n",
        "<br>\n",
        "\n",
        "- more about formatting : [link](https://realpython.com/python-string-formatting/)"
      ],
      "metadata": {
        "id": "7vCuGwtdcFq6"
      }
    },
    {
      "cell_type": "code",
      "source": [
        "varName = \"aswin\"\n",
        "varAge  = 25\n",
        "varX = 1\n",
        "\n",
        "print(\"(formatting +) Halo namaku \\n\\n\"+varName) \n",
        "\n",
        "print(\"(formatting persen) Halo namaku %s umurku %s.\\numur %s \\n\\n\" % (varName, varAge, varAge))\n",
        "\n",
        "print(\"(formatting str) Halo, namaku {nama}.\\nUmurku {umur}.\\n{nama} umur {umur} \\n\\n\".format(nama = varName, umur = varAge))\n",
        "\n",
        "print(f\"(formatting f-str) Halo, namaku {varName}.\\nUmurku {varAge}.\\n{varName} next year my age is {varAge+varX}\")"
      ],
      "metadata": {
        "colab": {
          "base_uri": "https://localhost:8080/"
        },
        "id": "ufukQxz1frqA",
        "outputId": "3f9665d5-48d5-4868-8381-c4fcb2cc4b9f"
      },
      "execution_count": null,
      "outputs": [
        {
          "output_type": "stream",
          "name": "stdout",
          "text": [
            "(formatting +) Halo namaku \n",
            "\n",
            "aswin\n",
            "(formatting persen) Halo namaku aswin umurku 25.\n",
            "umur 1 \n",
            "\n",
            "\n",
            "(formatting str) Halo, namaku aswin.\n",
            "Umurku 25.\n",
            "aswin umur 25 \n",
            "\n",
            "\n",
            "(formatting f-str) Halo, namaku aswin.\n",
            "Umurku 25.\n",
            "aswin next year my age is 26\n"
          ]
        }
      ]
    },
    {
      "cell_type": "markdown",
      "source": [
        "### String Operation\n",
        "\n",
        "- ref : [link](https://www.w3schools.com/python/python_ref_string.asp)"
      ],
      "metadata": {
        "id": "sr_CuddOkRmU"
      }
    },
    {
      "cell_type": "code",
      "source": [
        "name = \"AswiN\"\n",
        "\n",
        "#karena string juga bersifat array maka beberapa perintah list operation bisa kita pakai\n",
        "\n",
        "print(len(name))\n",
        "print(name[1:2])\n",
        "print(name.index(\"w\"))\n",
        "\n",
        "print('\\n')\n",
        "\n",
        "#perintah string lainnya\n",
        "\n",
        "print(name.upper())\n",
        "print(name.lower())\n",
        "print(name.isupper())\n",
        "print(name.islower())\n"
      ],
      "metadata": {
        "colab": {
          "base_uri": "https://localhost:8080/"
        },
        "id": "sMF1pbOIkYvE",
        "outputId": "84bd3874-c658-4b4d-9fa3-3ab53dcde87b"
      },
      "execution_count": null,
      "outputs": [
        {
          "output_type": "stream",
          "name": "stdout",
          "text": [
            "5\n",
            "s\n",
            "2\n",
            "\n",
            "\n",
            "ASWIN\n",
            "aswin\n",
            "False\n",
            "False\n"
          ]
        }
      ]
    },
    {
      "cell_type": "markdown",
      "source": [
        "# Statement and Expression"
      ],
      "metadata": {
        "id": "X-QGBY6RfU5M"
      }
    },
    {
      "cell_type": "markdown",
      "source": [
        "- statement adalah sintaks pada bahasa pemrograman yg menyatakan aksi atau tugas yg dilakukan\n",
        "- expression adalah sintaks yg menghasilkan nilai"
      ],
      "metadata": {
        "id": "4CleP0rqBDJt"
      }
    },
    {
      "cell_type": "code",
      "source": [
        "# = statement untuk membuat variabel 1\n",
        "x = 1 \n",
        "\n",
        "# + expression menjumlah dengan 1\n",
        "x + 1 "
      ],
      "metadata": {
        "colab": {
          "base_uri": "https://localhost:8080/"
        },
        "id": "VUvIGnvgBSEj",
        "outputId": "6882e67f-82f8-46c4-f29e-c440d520da18"
      },
      "execution_count": null,
      "outputs": [
        {
          "output_type": "execute_result",
          "data": {
            "text/plain": [
              "2"
            ]
          },
          "metadata": {},
          "execution_count": 3
        }
      ]
    },
    {
      "cell_type": "markdown",
      "source": [
        "# Aritmatika Statement"
      ],
      "metadata": {
        "id": "QRK9qgPTfRVA"
      }
    },
    {
      "cell_type": "code",
      "source": [
        "a = 4\n",
        "b = 3\n",
        " \n",
        "print(a + b)\n",
        "print(a - b)\n",
        "print(a * b)\n",
        "print(a / b)\n",
        "print(a % b) #sisa pembagian\n",
        "\n",
        "a+=b\n",
        "print(a)\n"
      ],
      "metadata": {
        "colab": {
          "base_uri": "https://localhost:8080/"
        },
        "id": "PbAXfkhbfche",
        "outputId": "04ad88c5-6f57-4360-df51-a9cb3eb15495"
      },
      "execution_count": null,
      "outputs": [
        {
          "output_type": "stream",
          "name": "stdout",
          "text": [
            "7\n",
            "1\n",
            "12\n",
            "1.3333333333333333\n",
            "1\n",
            "7\n"
          ]
        }
      ]
    },
    {
      "cell_type": "markdown",
      "source": [
        "## Comparing Statement\n",
        "\n",
        "- logical operators ( + - > < >= <= )\n"
      ],
      "metadata": {
        "id": "cWmeMwwDC0Rd"
      }
    },
    {
      "cell_type": "code",
      "source": [
        "print(a == b)\n",
        "print(a != b)\n",
        "print(a < b)\n",
        "print(a > b) "
      ],
      "metadata": {
        "colab": {
          "base_uri": "https://localhost:8080/"
        },
        "id": "ASaUmr9OC8-G",
        "outputId": "74f514d5-2eae-4859-ac20-0e19bf554ac7"
      },
      "execution_count": null,
      "outputs": [
        {
          "output_type": "stream",
          "name": "stdout",
          "text": [
            "False\n",
            "True\n",
            "False\n",
            "True\n"
          ]
        }
      ]
    },
    {
      "cell_type": "markdown",
      "source": [
        "## Conditional Statement\n",
        "\n",
        "- if\n",
        "- else \n",
        "- elif (if else)"
      ],
      "metadata": {
        "id": "hWd3EdpHNflH"
      }
    },
    {
      "cell_type": "code",
      "source": [
        "a = 1\n",
        "b = 2\n",
        "\n",
        "#if\n",
        "if(b > a ) :\n",
        "  print (\"b lebih besar a\")\n",
        "\n",
        "#else\n",
        "if (a > b ) :\n",
        "  print (\"a lebih besar b\")\n",
        "else :\n",
        "  print (\"a lebih kecil b\")\n",
        "\n",
        "#elif\n",
        "if (a > b ) :\n",
        "  print (\"a lebih besar b\")\n",
        "elif (a+1 == b) :\n",
        "  print (\"a+1 sama dengan b\")\n",
        "else :\n",
        "  print (\"a lebih kecil b\")\n"
      ],
      "metadata": {
        "colab": {
          "base_uri": "https://localhost:8080/"
        },
        "id": "wjM3EU2TOKv8",
        "outputId": "4e47ac92-cfdc-4291-ccf3-52c6c205a39b"
      },
      "execution_count": null,
      "outputs": [
        {
          "output_type": "stream",
          "name": "stdout",
          "text": [
            "b lebih besar a\n",
            "a lebih kecil b\n",
            "a+1 sama dengan b\n"
          ]
        }
      ]
    },
    {
      "cell_type": "markdown",
      "source": [
        "## Looping Statement\n",
        "\n",
        "- for\n",
        "  - mulai dan selesai loop berdasarkan range \n",
        "- while\n",
        "  - selama syaratnya terpenuhi ia akan terus loop\n",
        "\n",
        "  - kita juga dapat menghentikan loopnya dengan perintah `break`\n",
        "  - atau mengubah variabel syaratnya menjadi `false`\n",
        "- nested\n",
        "\n",
        "more about looping\n",
        "- [for looping](https://www.w3schools.com/python/python_for_loops.asp#:~:text=A%20for%20loop%20is%20used,other%20object%2Dorientated%20programming%20languages.)\n",
        "- [while looping](https://www.w3schools.com/python/python_while_loops.asp)"
      ],
      "metadata": {
        "id": "mgI4-zN7NKuJ"
      }
    },
    {
      "cell_type": "code",
      "source": [
        "#for\n",
        "print('for looping')\n",
        "\n",
        "buah = [\"nanas\", \"apel\", \"jeruk\", \"mangga\", \"kiwi\", \"alpukat\"]\n",
        "for makanan in buah:\n",
        "    print (\"Saya suka makan\", makanan)\n",
        "\n",
        "print('\\n')\n",
        "\n",
        "#while\n",
        "print('while looping')\n",
        " \n",
        "i = 0\n",
        "\n",
        "while buah[i] != 'kiwi':\n",
        "  i += 1\n",
        "  print(buah[i])\n",
        "\n",
        "print('\\n')\n",
        "\n",
        "#nested\n",
        "\n",
        "print('nested looping')\n",
        "\n",
        "for j in range(3):\n",
        "  for i in range(2):\n",
        "    print(i, j)"
      ],
      "metadata": {
        "colab": {
          "base_uri": "https://localhost:8080/"
        },
        "id": "BD-6XGW_Pqv6",
        "outputId": "17f93f86-b6f1-4985-8874-c9aec7945191"
      },
      "execution_count": null,
      "outputs": [
        {
          "output_type": "stream",
          "name": "stdout",
          "text": [
            "for looping\n",
            "Saya suka makan nanas\n",
            "Saya suka makan apel\n",
            "Saya suka makan jeruk\n",
            "Saya suka makan mangga\n",
            "Saya suka makan kiwi\n",
            "Saya suka makan alpukat\n",
            "\n",
            "\n",
            "while looping\n",
            "apel\n",
            "jeruk\n",
            "mangga\n",
            "kiwi\n",
            "\n",
            "\n",
            "nested looping\n",
            "0 0\n",
            "1 0\n",
            "0 1\n",
            "1 1\n",
            "0 2\n",
            "1 2\n"
          ]
        }
      ]
    },
    {
      "cell_type": "markdown",
      "source": [
        "### Kontrol Looping\n",
        "\n",
        "- break\n",
        "- continue\n",
        "- else after for"
      ],
      "metadata": {
        "id": "vRSG4EkcN26m"
      }
    },
    {
      "cell_type": "code",
      "source": [
        "print(\"continue control\")\n",
        "\n",
        "buah = [\"nanas\", \"apel\", \"jeruk\", \"mangga\", \"kiwi\", \"alpukat\"]\n",
        "\n",
        "for makanan in buah:\n",
        "    if (makanan == 'jeruk') : continue\n",
        "    print (\"Saya suka makan\", makanan)\n",
        "\n",
        "\n",
        "print(\"\\n\")\n",
        "\n",
        "print(\"break control\")\n",
        "\n",
        "i = 0\n",
        "while buah[i] != 'kiwi':\n",
        "  if (buah[i] == 'jeruk') : break \n",
        "  i += 1\n",
        "  print(buah[i])\n"
      ],
      "metadata": {
        "colab": {
          "base_uri": "https://localhost:8080/"
        },
        "id": "9avov48xTAiX",
        "outputId": "940b33d6-7afc-4bff-ba8d-b2e26b83b4cb"
      },
      "execution_count": null,
      "outputs": [
        {
          "output_type": "stream",
          "name": "stdout",
          "text": [
            "continue control\n",
            "Saya suka makan nanas\n",
            "Saya suka makan apel\n",
            "Saya suka makan mangga\n",
            "Saya suka makan kiwi\n",
            "Saya suka makan alpukat\n",
            "\n",
            "\n",
            "break control\n",
            "apel\n",
            "jeruk\n"
          ]
        }
      ]
    },
    {
      "cell_type": "markdown",
      "source": [
        "## Function & Lambda\n",
        "\n"
      ],
      "metadata": {
        "id": "McAKLh2pG3zy"
      }
    },
    {
      "cell_type": "code",
      "source": [
        "#deklarasi function\n",
        "def perkenalan (nama, asal) :\n",
        "  print(f\"perkenalkan saya {nama}, dari {asal}\")\n",
        "\n",
        "#menggunakan function\n",
        "perkenalan(\"aswin\",\"makassar\")\n",
        "\n",
        "#lamda\n",
        "varX = lambda nama,asal: print(f\"perkenalkan saya {nama}, dari {asal}\")\n",
        "\n",
        "varX(\"aswin\",\"makassar\")\n",
        " "
      ],
      "metadata": {
        "colab": {
          "base_uri": "https://localhost:8080/"
        },
        "id": "3nqXJVwzG3dW",
        "outputId": "9c300d1c-6bc4-4f73-8f6e-19e395e5813d"
      },
      "execution_count": null,
      "outputs": [
        {
          "output_type": "stream",
          "name": "stdout",
          "text": [
            "perkenalkan saya aswin, dari makassar\n",
            "perkenalkan saya aswin, dari makassar\n"
          ]
        }
      ]
    },
    {
      "cell_type": "markdown",
      "source": [
        "- lambda : memasukkan fungsi kedalam variabel\n",
        "\n",
        "  - var = lambda params,paramsN : Function\n",
        "\n",
        "- bedanya dengan function biasa adalah lambda digunakan jika fungsi sederhana dan singkat"
      ],
      "metadata": {
        "id": "AqTGT7aTbC2O"
      }
    }
  ]
}