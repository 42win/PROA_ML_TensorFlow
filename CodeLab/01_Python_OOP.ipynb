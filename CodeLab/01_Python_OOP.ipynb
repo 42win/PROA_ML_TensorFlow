{
  "nbformat": 4,
  "nbformat_minor": 0,
  "metadata": {
    "colab": {
      "name": "ML_Codelab_02_OOP_Python.ipynb",
      "provenance": [],
      "collapsed_sections": [
        "6W956PiPTF15",
        "rDCj_C3ATuk5",
        "qOOa_BxPXIBw",
        "rUspNO40urXv",
        "SU2ifVCKugQF",
        "6gyT6OS4vypo"
      ]
    },
    "kernelspec": {
      "name": "python3",
      "display_name": "Python 3"
    },
    "language_info": {
      "name": "python"
    }
  },
  "cells": [
    {
      "cell_type": "markdown",
      "source": [
        "# ML CodeLab 02 - OOP in Python"
      ],
      "metadata": {
        "id": "sXgs0vChSG2m"
      }
    },
    {
      "cell_type": "markdown",
      "source": [
        "## OOP (Object Oriented Programing)\n",
        "\n",
        "- paradigma programing yg menggunakan class dan object"
      ],
      "metadata": {
        "id": "IA5bbrxETgrS"
      }
    },
    {
      "cell_type": "markdown",
      "source": [
        "## Class & Object\n",
        "\n",
        "- Class dianalogikan sebagai cetak biru dimana produk yang diproduksi dari cetak biru tersebut dinamakan Object. \n",
        "- class memiliki 2 karakteristik yaitu attribute dan method "
      ],
      "metadata": {
        "id": "6W956PiPTF15"
      }
    },
    {
      "cell_type": "code",
      "source": [
        "class ikan :\n",
        "  pass\n",
        "\n",
        "paus = ikan()"
      ],
      "metadata": {
        "id": "BdBXQcM2Cdpo"
      },
      "execution_count": 70,
      "outputs": []
    },
    {
      "cell_type": "markdown",
      "source": [
        "## Perbedaan OOP dan Procedural dan Fungsional\n",
        "\n",
        "- case study luas segitiga"
      ],
      "metadata": {
        "id": "rDCj_C3ATuk5"
      }
    },
    {
      "cell_type": "markdown",
      "source": [
        "### **Procedural**\n",
        "  - fungsi yg tidak mengembalikan nilai"
      ],
      "metadata": {
        "id": "plo-X_5gU1b1"
      }
    },
    {
      "cell_type": "code",
      "source": [
        "def hitungLuas() :\n",
        "  alas = float(input('Masukkan alas: '))\n",
        "  tinggi = float(input('Masukkan tinggi:'))\n",
        "  print('Luas=', 0.5 * alas * tinggi)\n",
        "\n",
        "hitungLuas()\n"
      ],
      "metadata": {
        "colab": {
          "base_uri": "https://localhost:8080/"
        },
        "id": "R2rwmFebUUsz",
        "outputId": "815c353e-e9b9-44dc-bb3f-c3d10d650681"
      },
      "execution_count": 4,
      "outputs": [
        {
          "output_type": "stream",
          "name": "stdout",
          "text": [
            "Masukkan alas: 10\n",
            "Masukkan tinggi:20\n",
            "Luas= 100.0\n"
          ]
        }
      ]
    },
    {
      "cell_type": "markdown",
      "source": [
        "### **Fungsional**\n",
        "  - fungsi yg mengembalikan nilai"
      ],
      "metadata": {
        "id": "RebVjgQCU4Hz"
      }
    },
    {
      "cell_type": "code",
      "source": [
        "def inputParams() :\n",
        "       alas = float(input('Masukkan alas: '))\n",
        "       tinggi = float(input('Masukkan tinggi:'))\n",
        "       return alas, tinggi\n",
        "\n",
        "def hitungLuas (alas, tinggi) :\n",
        "        return 0.5 * alas * tinggi\n",
        "\n",
        "alas, tinggi = inputParams()\n",
        "hitungLuas(alas, tinggi)\n"
      ],
      "metadata": {
        "colab": {
          "base_uri": "https://localhost:8080/"
        },
        "id": "HiCpMNhVUn-r",
        "outputId": "fce248b1-e5ee-4f28-c780-0df06632c9b5"
      },
      "execution_count": 5,
      "outputs": [
        {
          "name": "stdout",
          "output_type": "stream",
          "text": [
            "Masukkan alas: 10\n",
            "Masukkan tinggi:20\n"
          ]
        },
        {
          "output_type": "execute_result",
          "data": {
            "text/plain": [
              "100.0"
            ]
          },
          "metadata": {},
          "execution_count": 5
        }
      ]
    },
    {
      "cell_type": "markdown",
      "source": [
        "### **OOP**\n",
        "\n",
        "  Jika kita ambil contoh program diatas maka cara berpikirnya seperti ini :\n",
        "  -\tSegitiga adalah sebuah objek\n",
        "  -\tObjek segitiga memiliki 2 attribute berupa alas dan tinggi\n",
        "  -\tOjek segitiga memiliki action untuk menghitung luasnya sendiri\n"
      ],
      "metadata": {
        "id": "AH08kVR2U59h"
      }
    },
    {
      "cell_type": "code",
      "source": [
        "class bangunRuang : \n",
        "           def __init__(self, alas, tinggi) :\n",
        "                  self.alas = alas\n",
        "                  self.tinggi = tinggi\n",
        "\n",
        "           def get_luas(self) :\n",
        "                   return 0.5 * self.alas * self.tinggi\n",
        "\n",
        "alas = float(input('Masukkan alas: '))\n",
        "tinggi = float(input('Masukkan tinggi:'))\n",
        "\n",
        "segitiga = bangunRuang(alas, tinggi)\n",
        "\n",
        "print ('luas segitiga : ', segitiga.get_luas())\n"
      ],
      "metadata": {
        "colab": {
          "base_uri": "https://localhost:8080/"
        },
        "id": "kXT2mrBQVB1X",
        "outputId": "852facd2-180d-48ec-ea47-7b670eff676a"
      },
      "execution_count": 8,
      "outputs": [
        {
          "output_type": "stream",
          "name": "stdout",
          "text": [
            "Masukkan alas: 10\n",
            "Masukkan tinggi:20\n",
            "luas segitiga :  100.0\n"
          ]
        }
      ]
    },
    {
      "cell_type": "markdown",
      "source": [
        "## Konsep OOP\n",
        "\n",
        "- pewarisan\n",
        "- enkapsulasi\n",
        "- polimorfisme"
      ],
      "metadata": {
        "id": "_5zODQVIV4-s"
      }
    },
    {
      "cell_type": "markdown",
      "source": [
        "### **Pewarisan**\n",
        "\n",
        "OOP memiliki konsep pewarisan dimana class yang kita buat bisa diwariskan ke class baru."
      ],
      "metadata": {
        "id": "qOOa_BxPXIBw"
      }
    },
    {
      "cell_type": "code",
      "source": [
        "class hewan :\n",
        "  def __init__(self, nama, umur) :\n",
        "    self.nama = nama\n",
        "    self.umur = umur\n",
        "\n",
        "  def bicara(self, word) :\n",
        "    print(self.nama, \"saya mengatakan \", word)\n",
        "\n",
        "#pewarisan dari class hewan\n",
        "\n",
        "class cat (hewan) : \n",
        "  def __init__(self, nama, umur, warna) :\n",
        "    super().__init__(nama,umur)               #super ini harus ngikutin class asalnya\n",
        "    self.warna = warna\n",
        " \n",
        "\n",
        "anggora = cat(\"garfield\", 5, \"red\")\n",
        "anggora.bicara(\"hello\")    \n"
      ],
      "metadata": {
        "colab": {
          "base_uri": "https://localhost:8080/"
        },
        "id": "sMgjy-HSWWqp",
        "outputId": "86316b50-4f9e-4435-e159-4e74ca544711"
      },
      "execution_count": 34,
      "outputs": [
        {
          "output_type": "stream",
          "name": "stdout",
          "text": [
            "garfield saya mengatakan  hello\n"
          ]
        }
      ]
    },
    {
      "cell_type": "markdown",
      "source": [
        "### **Enkapsulasi**\n",
        "\n",
        "membatasi akses ke motode atau attribute pada class dengan tujual mencegah data dari modifikasi langsung agar tetap aman"
      ],
      "metadata": {
        "id": "pCV9ZGibYTbW"
      }
    },
    {
      "cell_type": "markdown",
      "source": [
        "#### **Public**\n",
        "  - diakses dari mana saja"
      ],
      "metadata": {
        "id": "rUspNO40urXv"
      }
    },
    {
      "cell_type": "code",
      "source": [
        "class segitiga :\n",
        "  def __init__(self,alas,tinggi) :\n",
        "    self.alas = alas\n",
        "    self.tinggi = tinggi\n",
        "    self.luas = 0.5 * alas * tinggi\n",
        "\n",
        "\n",
        "#attribute alas,tinggi,luas adalah publik"
      ],
      "metadata": {
        "id": "kHdhcyR6uqhQ"
      },
      "execution_count": 21,
      "outputs": []
    },
    {
      "cell_type": "code",
      "source": [
        "segitiga_besar = segitiga(100, 80)\n",
        "\n",
        "# akses variabel alas, tinggi, dan luas dari luar kelas\n",
        "print(f'alas: {segitiga_besar.alas}')\n",
        "print(f'tinggi: {segitiga_besar.tinggi}')\n",
        "print(f'luas: {segitiga_besar.luas}')"
      ],
      "metadata": {
        "colab": {
          "base_uri": "https://localhost:8080/"
        },
        "id": "Qb7jC6JyvYkD",
        "outputId": "fc384198-1de2-4158-a3fb-adc3c98fdb41"
      },
      "execution_count": 22,
      "outputs": [
        {
          "output_type": "stream",
          "name": "stdout",
          "text": [
            "alas: 100\n",
            "tinggi: 80\n",
            "luas: 4000.0\n"
          ]
        }
      ]
    },
    {
      "cell_type": "markdown",
      "source": [
        "#### **Protected**\n",
        "\n",
        "  - hanya bisa diakses terbatas didalam classnya sendiri\n",
        "  - untuk membuat protected, kita menambahkan 1 undercross sebelum attribute"
      ],
      "metadata": {
        "id": "SU2ifVCKugQF"
      }
    },
    {
      "cell_type": "code",
      "execution_count": 23,
      "metadata": {
        "id": "eVJDDDENs0T6"
      },
      "outputs": [],
      "source": [
        "class mobil :\n",
        "  def __init__(self,merk) :\n",
        "    self._merk = merk"
      ]
    },
    {
      "cell_type": "code",
      "source": [
        "sedan = mobil(\"Toyota\")\n",
        "\n",
        "# tampilkan _merk dari luar kelas\n",
        "print(f'Merk: {sedan._merk}')"
      ],
      "metadata": {
        "colab": {
          "base_uri": "https://localhost:8080/"
        },
        "id": "8RUmDlJHtjZ-",
        "outputId": "c8b4f0e5-c237-4788-dede-2bc12e566825"
      },
      "execution_count": 24,
      "outputs": [
        {
          "output_type": "stream",
          "name": "stdout",
          "text": [
            "Merk: Toyota\n"
          ]
        }
      ]
    },
    {
      "cell_type": "markdown",
      "source": [
        "- Ya, betul sekali. Kita masih bisa mengakses atribut _merk dari luar kelas, karena hal ini hanya bersifat convention alias adat atau kebiasaan saja yang harus disepakati oleh programmer [1]. Di mana jika suatu atribut diawali oleh _, maka ia harusnya tidak boleh diakses kecuali dari internal kelas tersebut atau dari kelas yang mewarisinya.\n",
        "\n",
        "- Yang harusnya kita lakukan adalah: mengakses atribut protected hanya dari kelas internal atau dari kelas turunan, perhatikan contoh berikut:"
      ],
      "metadata": {
        "id": "FYR4K1Httq9T"
      }
    },
    {
      "cell_type": "code",
      "source": [
        "class MobilBalap(mobil):\n",
        "  def __init__(self, merk, total_gear):\n",
        "    super().__init__(merk)\n",
        "    self._total_gear = total_gear\n",
        "\n",
        "  def pamer(self):\n",
        "    # akses _merk dari subclass\n",
        "    print(f'Ini mobil {self._merk} dengan total gear {self._total_gear}')\n",
        "\n",
        "lamborgini = MobilBalap(\"lambor\",4)\n",
        "lamborgini.pamer()"
      ],
      "metadata": {
        "colab": {
          "base_uri": "https://localhost:8080/"
        },
        "id": "FydN969wtsbG",
        "outputId": "e3cd8d04-d0fd-4179-aded-bf1b4201febe"
      },
      "execution_count": 25,
      "outputs": [
        {
          "output_type": "stream",
          "name": "stdout",
          "text": [
            "Ini mobil lambor dengan total gear 4\n"
          ]
        }
      ]
    },
    {
      "cell_type": "markdown",
      "source": [
        "#### **Private**\n",
        "\n",
        "  - hanya bisa diakses di dalam classnya sendiri.\n",
        "  - tidak bisa diakses dari luar bahkan dari class turunannya\n",
        "  - untuk membuat private, kita menambahkan 2 undercross sebelum attribute"
      ],
      "metadata": {
        "id": "6gyT6OS4vypo"
      }
    },
    {
      "cell_type": "code",
      "source": [
        "class Orang:\n",
        "  def __init__(self, nama):\n",
        "    self.__nama = nama"
      ],
      "metadata": {
        "id": "7_y_XaoGwpXT"
      },
      "execution_count": 26,
      "outputs": []
    },
    {
      "cell_type": "code",
      "source": [
        "asean = Orang('hikari')\n",
        "\n",
        "print(\"Line dibawah eror pasti, karena akses private attribute dari luar class\")\n",
        "print(f\"nama saya {asean.__nama}\")"
      ],
      "metadata": {
        "colab": {
          "base_uri": "https://localhost:8080/",
          "height": 291
        },
        "id": "g8CcCrPbwvbd",
        "outputId": "aa69526b-4e64-4d26-8893-fd70e46ea298"
      },
      "execution_count": 35,
      "outputs": [
        {
          "output_type": "stream",
          "name": "stdout",
          "text": [
            "Line dibawah eror pasti, karena akses private attribute dari luar class\n"
          ]
        },
        {
          "output_type": "error",
          "ename": "AttributeError",
          "evalue": "ignored",
          "traceback": [
            "\u001b[0;31m---------------------------------------------------------------------------\u001b[0m",
            "\u001b[0;31mAttributeError\u001b[0m                            Traceback (most recent call last)",
            "\u001b[0;32m<ipython-input-35-0bdc179fc060>\u001b[0m in \u001b[0;36m<module>\u001b[0;34m()\u001b[0m\n\u001b[1;32m      2\u001b[0m \u001b[0;34m\u001b[0m\u001b[0m\n\u001b[1;32m      3\u001b[0m \u001b[0mprint\u001b[0m\u001b[0;34m(\u001b[0m\u001b[0;34m\"Line dibawah eror pasti, karena akses private attribute dari luar class\"\u001b[0m\u001b[0;34m)\u001b[0m\u001b[0;34m\u001b[0m\u001b[0;34m\u001b[0m\u001b[0m\n\u001b[0;32m----> 4\u001b[0;31m \u001b[0mprint\u001b[0m\u001b[0;34m(\u001b[0m\u001b[0;34mf\"nama saya {asean.__nama}\"\u001b[0m\u001b[0;34m)\u001b[0m\u001b[0;34m\u001b[0m\u001b[0;34m\u001b[0m\u001b[0m\n\u001b[0m",
            "\u001b[0;31mAttributeError\u001b[0m: 'Orang' object has no attribute '__nama'"
          ]
        }
      ]
    },
    {
      "cell_type": "markdown",
      "source": [
        "- kita mendapatkan error karena kita mengakses attribute __nama diluar classnya, Tapi jika kita ubah kodenya menjadi seperti ini:"
      ],
      "metadata": {
        "id": "SfRUPcUSxTQR"
      }
    },
    {
      "cell_type": "code",
      "source": [
        "class People(Orang):\n",
        "  def __init__(self,nama):\n",
        "    self.__nama = nama\n",
        "    self.nama = nama\n",
        "\n",
        "  def tampilkan_nama(self):\n",
        "    print(f\"nama saya {self.nama} {self.__nama} \")"
      ],
      "metadata": {
        "id": "7peq_gxCxaY4"
      },
      "execution_count": 36,
      "outputs": []
    },
    {
      "cell_type": "code",
      "source": [
        "european = People(\"Michael\")\n",
        "european.tampilkan_nama()\n",
        "\n",
        "print(european.nama)\n"
      ],
      "metadata": {
        "colab": {
          "base_uri": "https://localhost:8080/"
        },
        "id": "XflyQ6fiynnU",
        "outputId": "d5c74ba0-6f64-4820-b5f8-990e53aaf4e0"
      },
      "execution_count": 37,
      "outputs": [
        {
          "output_type": "stream",
          "name": "stdout",
          "text": [
            "nama saya Michael Michael \n",
            "Michael\n"
          ]
        }
      ]
    },
    {
      "cell_type": "markdown",
      "source": [
        "### **Polimorfisme**\n",
        "\n",
        "- Polimorfisme dalam OOP merupakan konsep dimana class memiliki banyak ‘bentuk’ = method, parameter yang berbeda-beda meskipun namanya sama.\n",
        "\n",
        "- polimorfisme dibedakan atas\n",
        "  - statis using Overloading\n",
        "  - dinamis using Overriding"
      ],
      "metadata": {
        "id": "TeD8UjHolrXc"
      }
    },
    {
      "cell_type": "markdown",
      "source": [
        "#### **Overloading**\n",
        "\n",
        "  - Kita ambil contoh operator ‘+’ , didalam python operator ini memiliki lebih dari satu peran tergantung tipe data yang diterimanya\n",
        "\n",
        "    - Jika kita operasikan terhadap nilai int, ia akan melakukan operasi penjumlahan \n",
        "\n",
        "    - Jika kita operasikan terhadap nilai string, ia akan melakukan operasi penggabungan "
      ],
      "metadata": {
        "id": "NxFSMAPEmH46"
      }
    },
    {
      "cell_type": "code",
      "source": [
        "print(1+1) \n",
        "print('1'+'1')"
      ],
      "metadata": {
        "colab": {
          "base_uri": "https://localhost:8080/"
        },
        "id": "XXv4EZkZKzZu",
        "outputId": "b18cd9bb-af1f-487e-ae71-690bce128588"
      },
      "execution_count": 38,
      "outputs": [
        {
          "output_type": "stream",
          "name": "stdout",
          "text": [
            "2\n",
            "11\n"
          ]
        }
      ]
    },
    {
      "cell_type": "markdown",
      "source": [
        "- namun bagaimana jika object+object"
      ],
      "metadata": {
        "id": "xZnsyBQ6nAnZ"
      }
    },
    {
      "cell_type": "code",
      "source": [
        "class angk:\n",
        "  def __init__(self,angka):\n",
        "    self.angka = angka\n",
        "\n",
        "\n",
        "x1 = angk(10)\n",
        "x2 = angk(20)\n",
        "\n",
        "x1+x2"
      ],
      "metadata": {
        "colab": {
          "base_uri": "https://localhost:8080/",
          "height": 253
        },
        "id": "sSCfJrMyJq2z",
        "outputId": "aa00127a-6be7-4d5a-d10b-141a66f54179"
      },
      "execution_count": 39,
      "outputs": [
        {
          "output_type": "error",
          "ename": "TypeError",
          "evalue": "ignored",
          "traceback": [
            "\u001b[0;31m---------------------------------------------------------------------------\u001b[0m",
            "\u001b[0;31mTypeError\u001b[0m                                 Traceback (most recent call last)",
            "\u001b[0;32m<ipython-input-39-ccd0b491752b>\u001b[0m in \u001b[0;36m<module>\u001b[0;34m()\u001b[0m\n\u001b[1;32m      7\u001b[0m \u001b[0mx2\u001b[0m \u001b[0;34m=\u001b[0m \u001b[0mangk\u001b[0m\u001b[0;34m(\u001b[0m\u001b[0;36m20\u001b[0m\u001b[0;34m)\u001b[0m\u001b[0;34m\u001b[0m\u001b[0;34m\u001b[0m\u001b[0m\n\u001b[1;32m      8\u001b[0m \u001b[0;34m\u001b[0m\u001b[0m\n\u001b[0;32m----> 9\u001b[0;31m \u001b[0mx1\u001b[0m\u001b[0;34m+\u001b[0m\u001b[0mx2\u001b[0m\u001b[0;34m\u001b[0m\u001b[0;34m\u001b[0m\u001b[0m\n\u001b[0m",
            "\u001b[0;31mTypeError\u001b[0m: unsupported operand type(s) for +: 'angk' and 'angk'"
          ]
        }
      ]
    },
    {
      "cell_type": "markdown",
      "source": [
        "- tentu akan error karena operator '+' karena belum di overload untuk type data object.\n",
        "- maka kita ubah seperti kode dibawah"
      ],
      "metadata": {
        "id": "DnZY-c8TnFpz"
      }
    },
    {
      "cell_type": "code",
      "source": [
        "class angkRev:\n",
        "  def __init__(self,angka):\n",
        "    self.angka = angka\n",
        "\n",
        "  def __add__(self, objek) :\n",
        "    return self.angka + objek.angka\n",
        "\n",
        "\n",
        "x1 = angkRev(10)\n",
        "x2 = angkRev(20)\n",
        "\n",
        "x1+x2"
      ],
      "metadata": {
        "colab": {
          "base_uri": "https://localhost:8080/"
        },
        "id": "yDBSA_ovna0d",
        "outputId": "0c31ca94-4723-4283-edd3-4585c33d56a1"
      },
      "execution_count": 40,
      "outputs": [
        {
          "output_type": "execute_result",
          "data": {
            "text/plain": [
              "30"
            ]
          },
          "metadata": {},
          "execution_count": 40
        }
      ]
    },
    {
      "cell_type": "markdown",
      "source": [
        "- __add adalah salah satu operator overloading\n",
        "- [more operator overload](https://jagongoding.com/python/menengah/oop/operator-overloading/)"
      ],
      "metadata": {
        "id": "78KT4U7Enux1"
      }
    },
    {
      "cell_type": "markdown",
      "source": [
        "#### **Overriding**\n",
        "\n",
        "- Menggunakan kembali method dari class induk dan dapat dimodifikasi pada class turunan"
      ],
      "metadata": {
        "id": "gFtuO4z3oCwt"
      }
    },
    {
      "cell_type": "code",
      "source": [
        "class hewan:  \n",
        "  def __init__(self) :\n",
        "    pass\n",
        "\n",
        "  def bersuara(self):      #fungsi bersuara\n",
        "    print(\"hmmmm\")"
      ],
      "metadata": {
        "id": "Qs1pImA-AuR2"
      },
      "execution_count": 49,
      "outputs": []
    },
    {
      "cell_type": "code",
      "source": [
        "class bebek(hewan):\n",
        "  def __init__(self):\n",
        "    super().__init__() \n",
        "\n",
        "  def bersuara(self):     #overide fungsi bersuara\n",
        "    print(\"kwek kwek\")\n",
        "\n",
        " "
      ],
      "metadata": {
        "id": "7rt-BuXbBMMc"
      },
      "execution_count": 51,
      "outputs": []
    },
    {
      "cell_type": "code",
      "source": [
        "hewan = hewan()\n",
        "duck  = bebek()\n",
        "\n",
        "hewan.bersuara()\n",
        "duck.bersuara()\n"
      ],
      "metadata": {
        "colab": {
          "base_uri": "https://localhost:8080/"
        },
        "id": "Kqp_WnzFBXur",
        "outputId": "17689196-00f2-4010-b0db-515e74231eb4"
      },
      "execution_count": 52,
      "outputs": [
        {
          "output_type": "stream",
          "name": "stdout",
          "text": [
            "hmmmm\n",
            "kwek kwek\n"
          ]
        }
      ]
    }
  ]
}